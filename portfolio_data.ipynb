{
 "cells": [
  {
   "cell_type": "code",
   "execution_count": 68,
   "id": "d2f90c3b",
   "metadata": {},
   "outputs": [],
   "source": [
    "import os\n",
    "import requests\n",
    "import pandas as pd\n",
    "import numpy as np\n",
    "import time\n",
    "from dotenv import  load_dotenv"
   ]
  },
  {
   "cell_type": "code",
   "execution_count": 69,
   "id": "822e204f",
   "metadata": {},
   "outputs": [
    {
     "name": "stdout",
     "output_type": "stream",
     "text": [
      "API ending in ...osHJ has been loaded succesfully\n"
     ]
    }
   ],
   "source": [
    "# Load API Key\n",
    "load_dotenv()\n",
    "API_KEY = os.getenv(\"API_KEY\")\n",
    "print(\"API ending in ...\"+str(API_KEY)[-5:-1]+\" has been loaded succesfully\" if API_KEY else \"Not found\")"
   ]
  },
  {
   "cell_type": "code",
   "execution_count": 70,
   "id": "c097f1dc",
   "metadata": {},
   "outputs": [],
   "source": [
    "# Get cash amount and interest earned\n",
    "url = \"https://live.trading212.com/api/v0/equity/account/cash\"\n",
    "headers = {\"Authorization\": API_KEY}\n",
    "response = requests.get(url, headers=headers)\n",
    "cash_data = response.json()"
   ]
  },
  {
   "cell_type": "code",
   "execution_count": 71,
   "id": "604cfde2",
   "metadata": {},
   "outputs": [
    {
     "data": {
      "text/html": [
       "<div>\n",
       "<style scoped>\n",
       "    .dataframe tbody tr th:only-of-type {\n",
       "        vertical-align: middle;\n",
       "    }\n",
       "\n",
       "    .dataframe tbody tr th {\n",
       "        vertical-align: top;\n",
       "    }\n",
       "\n",
       "    .dataframe thead th {\n",
       "        text-align: right;\n",
       "    }\n",
       "</style>\n",
       "<table border=\"1\" class=\"dataframe\">\n",
       "  <thead>\n",
       "    <tr style=\"text-align: right;\">\n",
       "      <th></th>\n",
       "      <th>free</th>\n",
       "      <th>total</th>\n",
       "      <th>ppl</th>\n",
       "      <th>invested</th>\n",
       "    </tr>\n",
       "  </thead>\n",
       "  <tbody>\n",
       "    <tr>\n",
       "      <th>0</th>\n",
       "      <td>1917.48</td>\n",
       "      <td>5789.07</td>\n",
       "      <td>104.49</td>\n",
       "      <td>3766.59</td>\n",
       "    </tr>\n",
       "  </tbody>\n",
       "</table>\n",
       "</div>"
      ],
      "text/plain": [
       "      free    total     ppl  invested\n",
       "0  1917.48  5789.07  104.49   3766.59"
      ]
     },
     "execution_count": 71,
     "metadata": {},
     "output_type": "execute_result"
    }
   ],
   "source": [
    "cash_df = pd.json_normalize(cash_data)\n",
    "# Free cash includes cash in pie, substract pieCash from free for available cash\n",
    "cash_df['free'] = cash_df['free'] - cash_df['pieCash']\n",
    "cash_df = cash_df.drop(['result', 'pieCash', 'blocked'], axis=1)\n",
    "cash_df.head()"
   ]
  },
  {
   "cell_type": "code",
   "execution_count": 72,
   "id": "60044cdb",
   "metadata": {},
   "outputs": [
    {
     "name": "stdout",
     "output_type": "stream",
     "text": [
      "[{'type': 'DEPOSIT', 'amount': 0.22, 'reference': '968bc230-7b59-438f-bfcc-bdebcec20689', 'dateTime': '2025-07-27T00:12:19.856Z'}, {'type': 'DEPOSIT', 'amount': 0.22, 'reference': '1925c283-f6a5-45e6-81d2-f97db50d65c6', 'dateTime': '2025-07-26T00:18:29.450Z'}, {'type': 'DEPOSIT', 'amount': 0.23, 'reference': 'de347c8b-133a-44ca-ab85-a7df87a54bef', 'dateTime': '2025-07-25T00:18:38.244Z'}, {'type': 'DEPOSIT', 'amount': 0.22, 'reference': 'e834ad41-21eb-49db-8b58-bb39bacb5342', 'dateTime': '2025-07-24T00:17:43.840Z'}, {'type': 'DEPOSIT', 'amount': 0.22, 'reference': '5d2511dd-7e94-4ad1-b8e4-86a96d07b651', 'dateTime': '2025-07-23T00:18:01.961Z'}, {'type': 'DEPOSIT', 'amount': 0.23, 'reference': '03bb348e-367a-4fdc-ad17-3123d59de8dc', 'dateTime': '2025-07-22T00:18:42.304Z'}, {'type': 'DEPOSIT', 'amount': 0.22, 'reference': 'a3a127c2-f103-42a6-b68b-2b0d389e4939', 'dateTime': '2025-07-21T00:12:33.207Z'}, {'type': 'DEPOSIT', 'amount': 0.22, 'reference': '570cf181-1a84-4cd3-831b-c37d9b58756a', 'dateTime': '2025-07-20T00:18:04.818Z'}, {'type': 'DEPOSIT', 'amount': 0.23, 'reference': 'a05e2709-1668-4629-b3d4-68ba88366e2d', 'dateTime': '2025-07-19T00:18:17.833Z'}, {'type': 'DEPOSIT', 'amount': 0.22, 'reference': 'a8f40621-0315-48b7-a0db-f46e94cff8d3', 'dateTime': '2025-07-18T00:18:49.921Z'}]\n",
      "limit=10&cursor=10f6c7a3-9dc2-4be2-82d5-bffbe908df7e&time=2025-07-08T20:04:08.457Z\n",
      "[{'type': 'DEPOSIT', 'amount': 0.22, 'reference': '73fc1960-f2b7-44d0-bb3d-98b02b1b066a', 'dateTime': '2025-07-17T00:12:56.858Z'}, {'type': 'WITHDRAW', 'amount': -1000.0, 'reference': '39220ece-3877-40cf-9a50-3b6f7dfc9c60', 'dateTime': '2025-07-16T15:54:01.730Z'}, {'type': 'DEPOSIT', 'amount': 0.34, 'reference': '67d61896-ff10-4d17-8ffb-85b1a735074d', 'dateTime': '2025-07-16T00:13:25.554Z'}, {'type': 'DEPOSIT', 'amount': 0.34, 'reference': '088bfd79-dce4-42df-b549-e31d96fd972b', 'dateTime': '2025-07-15T00:12:51.542Z'}, {'type': 'DEPOSIT', 'amount': 0.34, 'reference': '1045be98-4345-4d7a-b98b-0ed56f7b26df', 'dateTime': '2025-07-14T00:18:17.237Z'}, {'type': 'DEPOSIT', 'amount': 0.34, 'reference': 'a56b513e-29f2-4994-a028-b357490c9a7e', 'dateTime': '2025-07-13T00:12:29.855Z'}, {'type': 'DEPOSIT', 'amount': 0.34, 'reference': '1e917dbd-b478-4661-bdfd-d12e16a2312d', 'dateTime': '2025-07-12T00:18:04.570Z'}, {'type': 'DEPOSIT', 'amount': 0.34, 'reference': 'c8204c41-5122-41ae-9488-e571fd7fbd4f', 'dateTime': '2025-07-11T00:17:51.595Z'}, {'type': 'DEPOSIT', 'amount': 0.34, 'reference': '33399458-cf32-45c8-b80d-58190205cd7f', 'dateTime': '2025-07-10T00:16:46.239Z'}, {'type': 'DEPOSIT', 'amount': 0.34, 'reference': '5c116418-7ee5-4eb8-a801-d3fdd6fc44ac', 'dateTime': '2025-07-09T00:19:07.750Z'}]\n",
      "limit=10&cursor=da4ff141-df2d-4b96-96be-9ecaf0f4266c&time=2025-06-29T00:17:14.740Z\n",
      "[{'type': 'DEPOSIT', 'amount': 1000.0, 'reference': '10f6c7a3-9dc2-4be2-82d5-bffbe908df7e', 'dateTime': '2025-07-08T20:04:08.457Z'}, {'type': 'DEPOSIT', 'amount': 0.22, 'reference': 'f1aca89a-4ed3-4ffb-989e-d896c25d9d3b', 'dateTime': '2025-07-08T00:13:02.174Z'}, {'type': 'DEPOSIT', 'amount': 0.23, 'reference': 'fd8c7da0-356c-4c35-ba78-73aea7f92cfe', 'dateTime': '2025-07-07T00:18:45.658Z'}, {'type': 'DEPOSIT', 'amount': 0.22, 'reference': '9e0eb3b1-36da-4e38-b043-1a6b62fdeba5', 'dateTime': '2025-07-06T00:18:23.283Z'}, {'type': 'DEPOSIT', 'amount': 0.22, 'reference': '849bc485-9f2d-4b2f-992b-b9a154cb173b', 'dateTime': '2025-07-05T00:19:06.673Z'}, {'type': 'DEPOSIT', 'amount': 0.23, 'reference': '1545a072-6e24-4bf6-8e06-3e78ff8f7358', 'dateTime': '2025-07-04T00:17:06.854Z'}, {'type': 'DEPOSIT', 'amount': 0.22, 'reference': '09982b9a-1128-4cd5-b5c5-5bd0b325b9f9', 'dateTime': '2025-07-03T00:17:52.748Z'}, {'type': 'DEPOSIT', 'amount': 0.22, 'reference': '7657b3ae-6ec0-4668-a3a3-df212c7534b2', 'dateTime': '2025-07-02T00:17:58.465Z'}, {'type': 'DEPOSIT', 'amount': 0.22, 'reference': 'c78a09d5-e352-416b-af8b-1f18f2bc3ddf', 'dateTime': '2025-07-01T00:13:19.120Z'}, {'type': 'DEPOSIT', 'amount': 0.23, 'reference': 'b70bfa53-cfdb-44f4-90b0-aef604403357', 'dateTime': '2025-06-30T00:17:44.239Z'}]\n",
      "limit=10&cursor=bf3641ff-42fa-419e-8ff0-0536f754c1f8&time=2025-06-20T00:15:38.498Z\n",
      "[{'type': 'DEPOSIT', 'amount': 0.22, 'reference': 'da4ff141-df2d-4b96-96be-9ecaf0f4266c', 'dateTime': '2025-06-29T00:17:14.740Z'}, {'type': 'DEPOSIT', 'amount': 0.22, 'reference': '42b841b2-efed-4ede-8dbc-f715c58afcc5', 'dateTime': '2025-06-28T00:17:25.310Z'}, {'type': 'DEPOSIT', 'amount': 0.24, 'reference': 'e5863bcc-68f1-4533-be0c-c8ad0e97fd14', 'dateTime': '2025-06-27T00:26:22.199Z'}, {'type': 'DEPOSIT', 'amount': 295.0, 'reference': '45a562b5-33c2-4c30-b51c-95622954afac', 'dateTime': '2025-06-26T16:47:36.318Z'}, {'type': 'DEPOSIT', 'amount': 0.21, 'reference': '9cc5b2af-6434-405d-836a-f86e36d6ac8c', 'dateTime': '2025-06-26T00:18:12.072Z'}, {'type': 'DEPOSIT', 'amount': 0.22, 'reference': '8ea82194-ca19-49b6-8c9e-633bacd31902', 'dateTime': '2025-06-25T00:12:34.486Z'}, {'type': 'DEPOSIT', 'amount': 0.21, 'reference': 'c5d6d6d3-896e-4684-b28e-c55a84614596', 'dateTime': '2025-06-24T00:13:15.555Z'}, {'type': 'DEPOSIT', 'amount': 0.21, 'reference': '90d04af7-81ec-4ba7-b314-b739e8c4c6ae', 'dateTime': '2025-06-23T00:19:07.520Z'}, {'type': 'DEPOSIT', 'amount': 0.21, 'reference': 'a2ada291-c60b-4e57-bd5d-f1bd35dfdce9', 'dateTime': '2025-06-22T00:18:28.186Z'}, {'type': 'DEPOSIT', 'amount': 0.21, 'reference': '336f3c1e-f5f2-4b0f-a536-53c503df5492', 'dateTime': '2025-06-21T00:12:42.810Z'}]\n",
      "limit=10&cursor=6e7c344c-0099-4882-a6b4-b217990d3ccf&time=2025-06-11T00:18:20.989Z\n",
      "[{'type': 'DEPOSIT', 'amount': 0.21, 'reference': 'bf3641ff-42fa-419e-8ff0-0536f754c1f8', 'dateTime': '2025-06-20T00:15:38.498Z'}, {'type': 'DEPOSIT', 'amount': 0.21, 'reference': '0262cd1d-53fe-439a-9fbc-4786a961b65c', 'dateTime': '2025-06-19T00:15:51.239Z'}, {'type': 'DEPOSIT', 'amount': 0.21, 'reference': 'd32d713f-a1bc-4845-b185-893eb559b9b9', 'dateTime': '2025-06-18T00:13:26.364Z'}, {'type': 'DEPOSIT', 'amount': 0.09, 'reference': '0cc4baff-42b2-492e-8e1b-16a7a4df642e', 'dateTime': '2025-06-17T00:11:27.306Z'}, {'type': 'DEPOSIT', 'amount': 1000.0, 'reference': 'cd36ffe6-052e-4bb9-96a2-3918ebdf4ae7', 'dateTime': '2025-06-16T21:14:58.746Z'}, {'type': 'DEPOSIT', 'amount': 0.1, 'reference': '6110c335-8907-40e4-8723-9799deccd056', 'dateTime': '2025-06-16T00:21:27.520Z'}, {'type': 'DEPOSIT', 'amount': 0.09, 'reference': 'a8d401fa-6aac-436a-b467-983d145051a4', 'dateTime': '2025-06-15T00:19:08.714Z'}, {'type': 'DEPOSIT', 'amount': 0.1, 'reference': 'c7f4cad4-0c87-4d9e-8ee7-b7dbce92e9c0', 'dateTime': '2025-06-14T00:33:17.135Z'}, {'type': 'DEPOSIT', 'amount': 0.09, 'reference': '31c20a94-2679-4b5c-96a9-43db62f14259', 'dateTime': '2025-06-13T00:33:39.881Z'}, {'type': 'DEPOSIT', 'amount': 0.09, 'reference': '78908231-bb76-44ce-a496-d8eb207d4b65', 'dateTime': '2025-06-12T00:32:57.859Z'}]\n",
      "limit=10&cursor=b6aa51a4-33bb-425f-8829-84978cb4bbc4&time=2025-06-02T10:33:22.371Z\n",
      "[{'type': 'DEPOSIT', 'amount': 0.1, 'reference': '6e7c344c-0099-4882-a6b4-b217990d3ccf', 'dateTime': '2025-06-11T00:18:20.989Z'}, {'type': 'DEPOSIT', 'amount': 0.09, 'reference': 'd09cdfa2-db3f-4efe-95e2-d8a0528df4d9', 'dateTime': '2025-06-10T00:19:55.826Z'}, {'type': 'DEPOSIT', 'amount': 0.1, 'reference': '69b411cf-9922-465f-87aa-5e2ac5792f59', 'dateTime': '2025-06-09T00:19:29.348Z'}, {'type': 'DEPOSIT', 'amount': 0.09, 'reference': 'a4b27d32-1c93-4801-a352-f84ab06f2726', 'dateTime': '2025-06-08T00:14:06.929Z'}, {'type': 'DEPOSIT', 'amount': 0.09, 'reference': 'd0ac7908-88ab-4e9c-99dd-ddaa54d895a3', 'dateTime': '2025-06-07T00:13:47.823Z'}, {'type': 'WITHDRAW', 'amount': -1000.0, 'reference': 'bff9c8f3-6703-4125-8b82-2bd8c5f2278e', 'dateTime': '2025-06-06T12:56:07.394Z'}, {'type': 'DEPOSIT', 'amount': 0.21, 'reference': 'a51eda77-433a-4cda-a2cd-c7bf36dbf744', 'dateTime': '2025-06-06T00:11:46.387Z'}, {'type': 'DEPOSIT', 'amount': 0.21, 'reference': '2849c6f3-2a91-48d5-9497-cfaf1965029e', 'dateTime': '2025-06-05T00:11:43.623Z'}, {'type': 'DEPOSIT', 'amount': 0.22, 'reference': '3982e6a1-aae2-42c3-b4e0-515cf44ec6e7', 'dateTime': '2025-06-04T00:15:58.675Z'}, {'type': 'DEPOSIT', 'amount': 0.21, 'reference': 'e34e3fd7-0881-4e8f-b14f-c6ace3150c3a', 'dateTime': '2025-06-03T00:15:38.562Z'}]\n",
      "limit=10&cursor=87bca1b0-5a6c-4c20-ac5c-cfa1d880fc6e&time=2025-05-26T00:13:39.643Z\n",
      "[{'type': 'DEPOSIT', 'amount': 196.0, 'reference': 'b6aa51a4-33bb-425f-8829-84978cb4bbc4', 'dateTime': '2025-06-02T10:33:22.371Z'}, {'type': 'DEPOSIT', 'amount': 0.18, 'reference': '468a044d-2d78-43d3-8348-0bd9f5c20381', 'dateTime': '2025-06-02T00:14:09.543Z'}, {'type': 'DEPOSIT', 'amount': 0.19, 'reference': '6a7aae33-7650-4c78-863f-7ebb88cee042', 'dateTime': '2025-06-01T00:11:32.967Z'}, {'type': 'DEPOSIT', 'amount': 0.19, 'reference': 'c94e1f1d-39b0-483e-91fd-7a1215ea7638', 'dateTime': '2025-05-31T00:13:48.474Z'}, {'type': 'WITHDRAW', 'amount': -497.45, 'reference': 'cdb1d850-f4a4-4b8d-b3de-1c7e4a8379e3', 'dateTime': '2025-05-30T08:45:06.944Z'}, {'type': 'DEPOSIT', 'amount': 0.24, 'reference': 'd085f06b-1383-4837-a1d5-b3e028d02c52', 'dateTime': '2025-05-30T00:15:04.593Z'}, {'type': 'DEPOSIT', 'amount': 0.27, 'reference': 'e16488f5-02dd-4b8d-9a5f-379899fc14f9', 'dateTime': '2025-05-29T00:13:53.811Z'}, {'type': 'DEPOSIT', 'amount': 300.0, 'reference': 'a6874614-7965-4e3d-9f8b-c08d450a6242', 'dateTime': '2025-05-28T15:48:52.201Z'}, {'type': 'DEPOSIT', 'amount': 0.23, 'reference': '156f2d6d-9d7b-4de2-bfdd-649beda417a8', 'dateTime': '2025-05-28T00:13:50.712Z'}, {'type': 'DEPOSIT', 'amount': 0.24, 'reference': 'c73398f6-f3ef-40b2-9793-6db40ea36b21', 'dateTime': '2025-05-27T00:14:50.460Z'}]\n",
      "limit=10&cursor=3014e8fb-28d4-49a2-8e00-400463e7307d&time=2025-05-16T00:11:22.364Z\n",
      "[{'type': 'DEPOSIT', 'amount': 0.24, 'reference': '87bca1b0-5a6c-4c20-ac5c-cfa1d880fc6e', 'dateTime': '2025-05-26T00:13:39.643Z'}, {'type': 'DEPOSIT', 'amount': 0.25, 'reference': 'e3b84bad-36e8-4b7b-8f3a-d233cc9b7fc7', 'dateTime': '2025-05-25T00:14:30.878Z'}, {'type': 'DEPOSIT', 'amount': 0.25, 'reference': '801aceb2-7ab0-4339-87eb-43542cc00800', 'dateTime': '2025-05-24T00:11:16.926Z'}, {'type': 'DEPOSIT', 'amount': 0.24, 'reference': 'aba44ee4-5a93-453a-a5a9-b04ae5a05f00', 'dateTime': '2025-05-23T00:14:31.271Z'}, {'type': 'DEPOSIT', 'amount': 0.25, 'reference': 'c61b899b-1148-43b0-ae09-c3d21a9f7de9', 'dateTime': '2025-05-22T00:11:12.693Z'}, {'type': 'DEPOSIT', 'amount': 0.25, 'reference': 'c7adb0b1-ea68-4bc9-885f-0ad07f693dfd', 'dateTime': '2025-05-21T00:14:33.654Z'}, {'type': 'DEPOSIT', 'amount': 0.24, 'reference': '10425d34-3003-4e1d-8d49-e674b7b59677', 'dateTime': '2025-05-20T00:11:10.645Z'}, {'type': 'DEPOSIT', 'amount': 0.25, 'reference': '9474da22-d1e6-4222-a957-8eb32580fad9', 'dateTime': '2025-05-19T00:13:34.995Z'}, {'type': 'DEPOSIT', 'amount': 0.25, 'reference': 'e74df2d8-2da7-4a00-98a5-7ecb4487dff1', 'dateTime': '2025-05-18T00:11:18.199Z'}, {'type': 'DEPOSIT', 'amount': 0.24, 'reference': '43ca4741-8d14-414a-846c-34c3acdc24f9', 'dateTime': '2025-05-17T00:11:11.293Z'}]\n",
      "limit=10&cursor=084850c8-d025-4d12-971f-2a0637fcf53c&time=2025-05-07T00:11:00.136Z\n",
      "[{'type': 'DEPOSIT', 'amount': 0.25, 'reference': '3014e8fb-28d4-49a2-8e00-400463e7307d', 'dateTime': '2025-05-16T00:11:22.364Z'}, {'type': 'DEPOSIT', 'amount': 0.25, 'reference': '97aeb9e0-f61b-4432-9dbe-2d436f53e25e', 'dateTime': '2025-05-15T00:13:27.031Z'}, {'type': 'DEPOSIT', 'amount': 0.24, 'reference': 'da99697e-cfdd-40e1-ad7b-44ce4468daa9', 'dateTime': '2025-05-14T00:11:08.004Z'}, {'type': 'DEPOSIT', 'amount': 0.25, 'reference': 'bae5c48c-30b3-4497-853f-17937ed51ae8', 'dateTime': '2025-05-13T00:13:14.052Z'}, {'type': 'DEPOSIT', 'amount': 0.24, 'reference': '7593b28d-82f9-4a07-903d-5181ae2d4496', 'dateTime': '2025-05-12T00:13:11.302Z'}, {'type': 'WITHDRAW', 'amount': -302.55, 'reference': '6e6cb667-5b65-4b20-9ed6-a0175a343c85', 'dateTime': '2025-05-11T15:35:05.843Z'}, {'type': 'DEPOSIT', 'amount': 0.29, 'reference': '3d8c109f-496c-4497-9224-797338c40849', 'dateTime': '2025-05-11T00:12:26.709Z'}, {'type': 'DEPOSIT', 'amount': 0.28, 'reference': '75e0c855-64cb-4593-8ff2-4203a8d37325', 'dateTime': '2025-05-10T00:12:58.043Z'}, {'type': 'DEPOSIT', 'amount': 0.28, 'reference': '9b0ba146-b784-431a-a809-ebc8433e997b', 'dateTime': '2025-05-09T00:14:09.943Z'}, {'type': 'DEPOSIT', 'amount': 0.29, 'reference': '20d6fc73-19fd-4e99-b36b-c8c33abc1f1c', 'dateTime': '2025-05-08T00:10:59.682Z'}]\n",
      "limit=10&cursor=44bdcd72-d244-49fe-81c9-58b26002690c&time=2025-04-28T00:10:47.004Z\n",
      "[{'type': 'DEPOSIT', 'amount': 0.28, 'reference': '084850c8-d025-4d12-971f-2a0637fcf53c', 'dateTime': '2025-05-07T00:11:00.136Z'}, {'type': 'DEPOSIT', 'amount': 0.28, 'reference': '863c45d7-e776-4c36-9025-5d902cf3eabd', 'dateTime': '2025-05-06T00:13:10.949Z'}, {'type': 'DEPOSIT', 'amount': 0.29, 'reference': '0ddbbfb6-5670-4af4-b2a0-677af0b86d34', 'dateTime': '2025-05-05T00:13:14.957Z'}, {'type': 'DEPOSIT', 'amount': 0.28, 'reference': '404b43d1-6438-4755-8a8c-9e0eac3faaeb', 'dateTime': '2025-05-04T00:12:33.773Z'}, {'type': 'DEPOSIT', 'amount': 0.28, 'reference': 'b89bfd08-9fe1-4c0f-b0fd-f28fce76c032', 'dateTime': '2025-05-03T00:13:36.309Z'}, {'type': 'DEPOSIT', 'amount': 0.32, 'reference': '3e749bad-7419-46b8-bb4e-09feb1fb8e01', 'dateTime': '2025-05-02T00:14:18.020Z'}, {'type': 'DEPOSIT', 'amount': 0.31, 'reference': 'acb94c1c-3ace-461b-9df4-b8458323f107', 'dateTime': '2025-05-01T00:12:47.060Z'}, {'type': 'DEPOSIT', 'amount': 0.32, 'reference': '96e87370-9aeb-4b03-b2c0-6834c16bb2ba', 'dateTime': '2025-04-30T00:10:50.707Z'}, {'type': 'DEPOSIT', 'amount': 0.31, 'reference': '5f25904e-98f9-4e43-ace8-dc13c10d8661', 'dateTime': '2025-04-29T00:14:05.409Z'}, {'type': 'DEPOSIT', 'amount': 500.0, 'reference': '129c0665-389d-4e2d-aa61-c59d8211d55b', 'dateTime': '2025-04-28T15:59:56.288Z'}]\n",
      "limit=10&cursor=df635283-ff3f-4817-83cd-1cd955650dbd&time=2025-04-18T00:10:41.493Z\n",
      "[{'type': 'DEPOSIT', 'amount': 0.25, 'reference': '44bdcd72-d244-49fe-81c9-58b26002690c', 'dateTime': '2025-04-28T00:10:47.004Z'}, {'type': 'DEPOSIT', 'amount': 0.25, 'reference': 'ac63d8cd-d418-4b20-9285-2ff08972d057', 'dateTime': '2025-04-27T00:12:30.038Z'}, {'type': 'DEPOSIT', 'amount': 0.25, 'reference': 'bfffe24b-73d7-467b-9320-264e3599d4f8', 'dateTime': '2025-04-26T00:12:54.490Z'}, {'type': 'DEPOSIT', 'amount': 0.26, 'reference': '895297f8-cd85-458d-b8e1-20694270fe54', 'dateTime': '2025-04-25T00:12:57.236Z'}, {'type': 'DEPOSIT', 'amount': 0.25, 'reference': 'b3c2cbe6-f6d8-4c9a-a2ed-a24dff2516a1', 'dateTime': '2025-04-24T00:12:52.659Z'}, {'type': 'DEPOSIT', 'amount': 0.25, 'reference': 'b9efc203-5969-4ad5-b1b4-49660015201d', 'dateTime': '2025-04-23T00:13:54.488Z'}, {'type': 'DEPOSIT', 'amount': 0.25, 'reference': 'a2fc7daf-a53d-4f2b-92d4-3c72f45925fb', 'dateTime': '2025-04-22T00:14:01.758Z'}, {'type': 'DEPOSIT', 'amount': 0.25, 'reference': '715b95fa-7e5e-4e47-8767-af7855e0e176', 'dateTime': '2025-04-21T00:13:52.885Z'}, {'type': 'DEPOSIT', 'amount': 0.25, 'reference': 'ec78d2f6-0c90-4016-9235-f1a615e7a645', 'dateTime': '2025-04-20T00:12:50.394Z'}, {'type': 'DEPOSIT', 'amount': 0.25, 'reference': 'ce63b14b-f460-40ca-9bf7-3af37a088ac2', 'dateTime': '2025-04-19T00:13:49.640Z'}]\n",
      "limit=10&cursor=a8e7e147-9efb-489e-96d7-be459a1a8755&time=2025-02-16T02:23:12.286Z\n",
      "[{'type': 'DEPOSIT', 'amount': 0.26, 'reference': 'df635283-ff3f-4817-83cd-1cd955650dbd', 'dateTime': '2025-04-18T00:10:41.493Z'}, {'type': 'TRANSFER', 'amount': 2038.79, 'reference': 'fb9b9ffa-4a88-4dfc-bb5d-3401a19a9df4', 'dateTime': '2025-04-17T13:46:49.412Z'}, {'type': 'DEPOSIT', 'amount': 0.02, 'reference': '1a967b5b-f461-4f6f-a357-ed5f244c8bbc', 'dateTime': '2025-03-28T01:10:36.594Z'}, {'type': 'DEPOSIT', 'amount': 200.0, 'reference': 'b699ef35-bcab-4c79-b3b2-7ec7a2d5b5ae', 'dateTime': '2025-03-27T18:22:13.477Z'}, {'type': 'DEPOSIT', 'amount': 25.0, 'reference': '2fa1912c-433a-4efe-8822-cd909872ee9c', 'dateTime': '2025-02-27T09:48:48.180Z'}, {'type': 'TRANSFER', 'amount': -200.0, 'reference': '079f2a98-cdc7-4eeb-baec-43258a0d9279', 'dateTime': '2025-02-27T09:47:12.238Z'}, {'type': 'DEPOSIT', 'amount': 275.0, 'reference': 'fb1afc4b-921b-4595-a058-95113ba47ad4', 'dateTime': '2025-02-27T09:46:47.903Z'}, {'type': 'DEPOSIT', 'amount': 0.01, 'reference': '19154aa7-7d0d-4702-9573-1680b132d966', 'dateTime': '2025-02-27T02:22:55.343Z'}, {'type': 'TRANSFER', 'amount': -75.0, 'reference': '61b6c2dc-4eed-4839-a4ff-090cc6b13938', 'dateTime': '2025-02-26T21:08:00.996Z'}, {'type': 'DEPOSIT', 'amount': 150.0, 'reference': 'aa649ea7-52b4-4ebd-9f3d-f5a11ba15296', 'dateTime': '2025-02-26T21:07:34.653Z'}]\n",
      "None\n",
      "[{'type': 'DEPOSIT', 'amount': 0.01, 'reference': 'a8e7e147-9efb-489e-96d7-be459a1a8755', 'dateTime': '2025-02-16T02:23:12.286Z'}, {'type': 'DEPOSIT', 'amount': 0.01, 'reference': 'a78b59ed-2e00-4777-81a8-67a349e9e7f5', 'dateTime': '2025-01-27T02:10:34.125Z'}, {'type': 'DEPOSIT', 'amount': 0.01, 'reference': '5ba10255-54c4-460d-96c6-4d2877b128df', 'dateTime': '2025-01-26T02:10:35.786Z'}, {'type': 'DEPOSIT', 'amount': 0.01, 'reference': '71b7aa17-60a1-4d8b-906a-09abb8a23ecc', 'dateTime': '2025-01-25T02:10:31.139Z'}, {'type': 'DEPOSIT', 'amount': 100.0, 'reference': '198596ac-acfd-4887-a333-cdff162af6bc', 'dateTime': '2025-01-24T16:39:35.250Z'}, {'type': 'DEPOSIT', 'amount': 0.01, 'reference': '4adfd051-b135-4716-8d86-d1ad1b462104', 'dateTime': '2025-01-24T02:10:30.960Z'}]\n"
     ]
    }
   ],
   "source": [
    "# Get original cash before interest\n",
    "url = \"https://live.trading212.com/api/v0/history/transactions\"\n",
    "\n",
    "query = {\n",
    "  \"limit\": \"10\"\n",
    "}\n",
    "\n",
    "headers = {\"Authorization\": API_KEY}\n",
    "\n",
    "response = requests.get(url, headers=headers, params=query)\n",
    "\n",
    "data = response.json()\n",
    "transactions = data['items']\n",
    "next_page = data['nextPagePath']\n",
    "print(data['items'])\n",
    "\n",
    "while(next_page is not None):\n",
    "    query['cursor'] = next_page[16:52]\n",
    "    query['time'] = next_page[-24:]\n",
    "    response = requests.get(url, headers=headers, params=query)\n",
    "    data = response.json()\n",
    "    trans = data['items']\n",
    "    print(data['nextPagePath'])\n",
    "    next_page = data['nextPagePath']\n",
    "    print(trans)\n",
    "    transactions.extend(trans)\n",
    "    time.sleep(11)\n"
   ]
  },
  {
   "cell_type": "code",
   "execution_count": 75,
   "id": "5221859a",
   "metadata": {},
   "outputs": [
    {
     "data": {
      "text/plain": [
       "<Response [500]>"
      ]
     },
     "execution_count": 75,
     "metadata": {},
     "output_type": "execute_result"
    }
   ],
   "source": [
    "url = \"https://live.trading212.com/api/v0/history/transactions\"\n",
    "\n",
    "query = {\n",
    "  \"cursor\": \"00766c05-0ac6-414c-972c-cb9e5ce95445\",\n",
    "  \"limit\": \"10\",\n",
    "  \"time\": \"2025-01-23 16:43:17.296Z\"\n",
    "}\n",
    "\n",
    "headers = {\"Authorization\": API_KEY}\n",
    "\n",
    "response = requests.get(url, headers=headers, params=query)\n",
    "\n",
    "data = response.json()\n",
    "response"
   ]
  },
  {
   "cell_type": "code",
   "execution_count": 73,
   "id": "bf8096cd",
   "metadata": {},
   "outputs": [
    {
     "data": {
      "text/html": [
       "<div>\n",
       "<style scoped>\n",
       "    .dataframe tbody tr th:only-of-type {\n",
       "        vertical-align: middle;\n",
       "    }\n",
       "\n",
       "    .dataframe tbody tr th {\n",
       "        vertical-align: top;\n",
       "    }\n",
       "\n",
       "    .dataframe thead th {\n",
       "        text-align: right;\n",
       "    }\n",
       "</style>\n",
       "<table border=\"1\" class=\"dataframe\">\n",
       "  <thead>\n",
       "    <tr style=\"text-align: right;\">\n",
       "      <th></th>\n",
       "      <th>type</th>\n",
       "      <th>amount</th>\n",
       "      <th>reference</th>\n",
       "      <th>dateTime</th>\n",
       "    </tr>\n",
       "  </thead>\n",
       "  <tbody>\n",
       "    <tr>\n",
       "      <th>121</th>\n",
       "      <td>INTEREST</td>\n",
       "      <td>0.01</td>\n",
       "      <td>a78b59ed-2e00-4777-81a8-67a349e9e7f5</td>\n",
       "      <td>2025-01-27T02:10:34.125Z</td>\n",
       "    </tr>\n",
       "    <tr>\n",
       "      <th>122</th>\n",
       "      <td>INTEREST</td>\n",
       "      <td>0.01</td>\n",
       "      <td>5ba10255-54c4-460d-96c6-4d2877b128df</td>\n",
       "      <td>2025-01-26T02:10:35.786Z</td>\n",
       "    </tr>\n",
       "    <tr>\n",
       "      <th>123</th>\n",
       "      <td>INTEREST</td>\n",
       "      <td>0.01</td>\n",
       "      <td>71b7aa17-60a1-4d8b-906a-09abb8a23ecc</td>\n",
       "      <td>2025-01-25T02:10:31.139Z</td>\n",
       "    </tr>\n",
       "    <tr>\n",
       "      <th>124</th>\n",
       "      <td>DEPOSIT</td>\n",
       "      <td>100.00</td>\n",
       "      <td>198596ac-acfd-4887-a333-cdff162af6bc</td>\n",
       "      <td>2025-01-24T16:39:35.250Z</td>\n",
       "    </tr>\n",
       "    <tr>\n",
       "      <th>125</th>\n",
       "      <td>INTEREST</td>\n",
       "      <td>0.01</td>\n",
       "      <td>4adfd051-b135-4716-8d86-d1ad1b462104</td>\n",
       "      <td>2025-01-24T02:10:30.960Z</td>\n",
       "    </tr>\n",
       "  </tbody>\n",
       "</table>\n",
       "</div>"
      ],
      "text/plain": [
       "         type  amount                             reference  \\\n",
       "121  INTEREST    0.01  a78b59ed-2e00-4777-81a8-67a349e9e7f5   \n",
       "122  INTEREST    0.01  5ba10255-54c4-460d-96c6-4d2877b128df   \n",
       "123  INTEREST    0.01  71b7aa17-60a1-4d8b-906a-09abb8a23ecc   \n",
       "124   DEPOSIT  100.00  198596ac-acfd-4887-a333-cdff162af6bc   \n",
       "125  INTEREST    0.01  4adfd051-b135-4716-8d86-d1ad1b462104   \n",
       "\n",
       "                     dateTime  \n",
       "121  2025-01-27T02:10:34.125Z  \n",
       "122  2025-01-26T02:10:35.786Z  \n",
       "123  2025-01-25T02:10:31.139Z  \n",
       "124  2025-01-24T16:39:35.250Z  \n",
       "125  2025-01-24T02:10:30.960Z  "
      ]
     },
     "execution_count": 73,
     "metadata": {},
     "output_type": "execute_result"
    }
   ],
   "source": [
    "transactions_df = pd.DataFrame(transactions)\n",
    "transactions_df.loc[(transactions_df['amount'] > 0)&(transactions_df['amount'] < 100), 'type'] = 'INTEREST'\n",
    "transactions_df.tail()\n"
   ]
  },
  {
   "cell_type": "code",
   "execution_count": null,
   "id": "11f4ba2d",
   "metadata": {},
   "outputs": [],
   "source": []
  }
 ],
 "metadata": {
  "kernelspec": {
   "display_name": "Python 3",
   "language": "python",
   "name": "python3"
  },
  "language_info": {
   "codemirror_mode": {
    "name": "ipython",
    "version": 3
   },
   "file_extension": ".py",
   "mimetype": "text/x-python",
   "name": "python",
   "nbconvert_exporter": "python",
   "pygments_lexer": "ipython3",
   "version": "3.10.11"
  }
 },
 "nbformat": 4,
 "nbformat_minor": 5
}
